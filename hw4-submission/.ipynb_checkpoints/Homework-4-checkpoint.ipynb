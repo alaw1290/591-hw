{
 "cells": [
  {
   "cell_type": "markdown",
   "metadata": {},
   "source": [
    "(In order to load the stylesheet of this notebook, execute the last code cell in this notebook)"
   ]
  },
  {
   "cell_type": "markdown",
   "metadata": {},
   "source": [
    "# Recommender System for Amazon Electronics"
   ]
  },
  {
   "cell_type": "markdown",
   "metadata": {},
   "source": [
    "In this assignment, we will be working with the [Amazon dataset](http://cs-people.bu.edu/kzhao/teaching/amazon_reviews_Electronics.tar.gz). You will build a recommender system to make predictions related to reviews of Electronics products on Amazon.\n",
    "\n",
    "Your grades will be determined by your performance on the predictive tasks as well as a brief written report about the approaches you took.\n",
    "\n",
    "This assignment should be completed **individually**."
   ]
  },
  {
   "cell_type": "markdown",
   "metadata": {},
   "source": [
    "## Files"
   ]
  },
  {
   "cell_type": "markdown",
   "metadata": {},
   "source": [
    "**train.json** 1,000,000 reviews to be used for training. It is not necessary to use all reviews for training if doing so proves too computationally intensive. The fields in this file are:\n",
    "\n",
    "* **reviewerID** The ID of the reviewer. This is a hashed user identifier from Amazon.\n",
    "\n",
    "* **asin** The ID of the item. This is a hashed product identifier from Amazon.\n",
    "\n",
    "* **overall** The rating of reviewer gave the item.\n",
    "\n",
    "* **helpful** The helpfulness votes for the review. This has 2 subfields, 'nHelpful' and 'outOf'. The latter is the total number of votes this review received. The former is the number of those that considered the review to be helpful.\n",
    "\n",
    "* **reviewText** The text of the review.\n",
    "\n",
    "* **summary** The summary of the review.\n",
    "\n",
    "* **unixReviewTime** The time of the review in seconds since 1970."
   ]
  },
  {
   "cell_type": "markdown",
   "metadata": {},
   "source": [
    "**meta.json** Contains metadata of the items:\n",
    "\n",
    "* **asin** The ID of the item.\n",
    "\n",
    "* **categories** The category labels of the item being reviewed.\n",
    "\n",
    "* **price** The price of the item.\n",
    "\n",
    "* **brand** The brand of the item."
   ]
  },
  {
   "cell_type": "markdown",
   "metadata": {},
   "source": [
    "**pairs_Rating.txt** The pairs (reviewerID and asin) on which you are to predict ratings.\n",
    "\n",
    "**pairs_Purchase.txt** The pairs on which you are to predict whether a user purchased an item or not.\n",
    "\n",
    "**pairs_Helpful.txt** The pairs on which you are to predict helpfulness votes. A third column in this file is the total number of votes from which you should predict how many were helpful."
   ]
  },
  {
   "cell_type": "markdown",
   "metadata": {},
   "source": [
    "**helpful.json** The review data associated with the helpfulness prediction test set. The 'nHelpful' field has been removed from this data since that is the value you need to predict above. This data will only be of use for the helpfulness prediction task."
   ]
  },
  {
   "cell_type": "markdown",
   "metadata": {},
   "source": [
    "**Rating prediction** Predict people's star ratings as accurately as possible for those (reviewerID, asin) pairs in 'pairs_Rating.txt'. Accuracy will be measured in terms of the [root mean-squared error (RMSE)](http://www.kaggle.com/wiki/RootMeanSquaredError).\n",
    "\n",
    "**Purchase prediction** Predict given a (reviewerID, asin) pair from 'pairs_Purchase.txt' whether the user purchased the item (really, whether it was one of the items they reviewed). Accuracy will be measured in terms of the [categorization accuracy](http://www.kaggle.com/wiki/HammingLoss) (1 minus the Hamming loss).\n",
    "\n",
    "**Helpfulness prediction** Predic whether a user's review of an item will be considered helpful. The file 'pairs_Helpful.txt' contains (reviewerID, asin) pairs with a third column containing the number of votes the user's review of the item received. You must predict how many of them were helpful. Accuracy will be measured in terms of the total [absolute error](http://www.kaggle.com/wiki/AbsoluteError), i.e. you are penalized one according to the difference |nHelpful - prediction|, where 'nHelpful' is the number of helpful votes the review actually received, and 'prediction' is your prediction of this quantity.\n",
    "\n",
    "We set up competitions on Kaggle to keep track of your results compared to those of other members of the class. The leaderboard will show your results on half of the test data, but your ultimate score will depend on your predictions across the whole dataset.\n",
    "* Kaggle competition: [rating prediction](https://inclass.kaggle.com/c/cs591-hw3-rating-prediction3) click here to [join](https://kaggle.com/join/datascience16rating)\n",
    "* Kaggle competition: [purchase prediction](https://inclass.kaggle.com/c/cs591-hw3-purchase-prediction) click here to [join](https://kaggle.com/join/datascience16purchase)\n",
    "* Kaggle competition: [helpfulness prediction](https://inclass.kaggle.com/c/cs591-hw3-helpful-prediction) click here to [join](https://kaggle.com/join/datascience16helpful)"
   ]
  },
  {
   "cell_type": "markdown",
   "metadata": {},
   "source": [
    "**baseline.py** A simple baseline for each task."
   ]
  },
  {
   "cell_type": "markdown",
   "metadata": {
    "collapsed": true
   },
   "source": [
    "## Tasks"
   ]
  },
  {
   "cell_type": "markdown",
   "metadata": {},
   "source": [
    "## Grading and Evaluation"
   ]
  },
  {
   "cell_type": "markdown",
   "metadata": {},
   "source": [
    "You will be graded on the following aspects.\n",
    "\n",
    "* Your written report. This should describe the approaches you took to each of the 3 tasks. To obtain good performance, you should not need to invent new approaches (though you are more than welcome to) but rather you will be graded based on your decision to apply reasonable approaches to each of the given tasks. (**10pts** for each task)\n",
    "\n",
    "* Your ability to obtain a solution which outperforms the baselines on the unseen portion of the test data. Obtaining full marks requires a solution which is substantially better (at least several percent) than baseline performance. (**10pts** for each task)\n",
    "\n",
    "* Your ranking for each of the three tasks compared to other students in the class. (**5pts** for each task)\n",
    "\n",
    "* Obtain a solution which outperforms the baselines on the seen portion of the test data (the leaderboard). \n",
    "(**5pts** for each task)"
   ]
  },
  {
   "cell_type": "markdown",
   "metadata": {},
   "source": [
    "## Baselines"
   ]
  },
  {
   "cell_type": "markdown",
   "metadata": {},
   "source": [
    "Simple baselines have been provided for each of the 3 tasks. These are included in 'baselines.py' among the files above. These 3 baselines operate as follows:\n",
    "\n",
    "**Rating prediction** Returns the global average rating, or the user's average if you have seen them before in the training data.\n",
    "\n",
    "**Purchase prediction** Finds the most popular products that account for 50% of purchases in the training data. Return '1' whenever such a product is seen at test time, '0' otherwise.\n",
    "\n",
    "** Helpfulness prediction** Multiplies the number of votes by the global average helpfulness rate, or the user's rate if we saw this user in the training data.\n",
    "\n",
    "Running 'baseline.py' produces 3 files containing predicted outputs. Your submission files should have the same format."
   ]
  },
  {
   "cell_type": "markdown",
   "metadata": {},
   "source": [
    "## Dataset Citation"
   ]
  },
  {
   "cell_type": "markdown",
   "metadata": {},
   "source": [
    "**Image-based recommendations on styles and substitutes** J. McAuley, C. Targett, J. Shi, A. van den Hengel *SIGIR*, 2015\n",
    "\n",
    "**Inferring networks of substitutable and complementary products** J. McAuley, R. Pandey, J. Leskovec *Knowledge Discovery and Data Mining*, 2015"
   ]
  },
  {
   "cell_type": "markdown",
   "metadata": {},
   "source": [
    "-----------------"
   ]
  },
  {
   "cell_type": "code",
   "execution_count": 102,
   "metadata": {
    "collapsed": false,
    "scrolled": true
   },
   "outputs": [
    {
     "name": "stdout",
     "output_type": "stream",
     "text": [
      "took 31.4072310925 secs\n"
     ]
    }
   ],
   "source": [
    "\"\"\"Task 1: User Rating Prediction\"\"\"\n",
    "\n",
    "import json\n",
    "import time \n",
    "import numpy as np\n",
    "\n",
    "\n",
    "def parse_ratings_1(filename = \"amazon_reviews_Electronics/train.json\"):\n",
    "    '''Read training set and use to make baseline estimation'''\n",
    "    \n",
    "    #first pass: categorize each item in meta.json \n",
    "    global_avg = 0.0\n",
    "    global_count = 0.0\n",
    "    with open(filename,'r') as f:\n",
    "        for line in f:\n",
    "            #first 174 chars needed, nothing else\n",
    "            line = line[0:173] + '}'\n",
    "            json_line = json.loads(line)\n",
    "            global_avg += json_line['overall']\n",
    "            global_count += 1\n",
    "        \n",
    "    global_avg = global_avg/global_count\n",
    "    \n",
    "    #second pass: create user_dict and item_dict which stores all their corresponding ratings in a list\n",
    "    user_dict = {}\n",
    "    item_dict = {}\n",
    "    \n",
    "    with open(filename,'r') as f:\n",
    "        for line in f:\n",
    "            #first 174 chars needed, nothing else\n",
    "            line = line[0:173] + '}'\n",
    "            json_line = json.loads(line)\n",
    "            if json_line['asin'] not in item_dict:\n",
    "                item_dict[json_line['asin']] = [json_line['overall']]\n",
    "            else:\n",
    "                item_dict[json_line['asin']] += [json_line['overall']]\n",
    "                \n",
    "            if json_line['reviewerID'] not in user_dict:\n",
    "                user_dict[json_line['reviewerID']] = [json_line['overall']]\n",
    "            else:\n",
    "                user_dict[json_line['reviewerID']] += [json_line['overall']]\n",
    "    \n",
    "    return user_dict,item_dict,global_avg\n",
    "\n",
    "def prediction_test_1(user_dict,item_dict,global_avg,filename = \"amazon_reviews_Electronics/pairs_Rating.txt\"):\n",
    "    '''Items or Users that don't appear in training set = return global average'''\n",
    "    predictions = open(\"predictions_Rating.txt\", 'w')\n",
    "    with open(filename,'r') as f:\n",
    "        for line in f:\n",
    "            if \"reviewerID-asin\" in line:\n",
    "                #header\n",
    "                predictions.write(line)\n",
    "                continue\n",
    "            else:\n",
    "                userID,itemID = line.strip().split('-')\n",
    "                try:\n",
    "                    x = np.average(item_dict[itemID])\n",
    "                    predictions.write(userID + '-' + itemID + ',' + str(x) + '\\n')\n",
    "                except KeyError:\n",
    "                    try:\n",
    "                        x = np.average(user_dict[userID])\n",
    "                        predictions.write(userID + '-' + itemID + ',' + str(x) + '\\n')\n",
    "                    except KeyError:\n",
    "                        predictions.write(userID + '-' + itemID + ',' + str(global_avg) + '\\n')\n",
    "        predictions.close()\n",
    "                \n",
    "start = time.time()\n",
    "uD, iD, global_avg = parse_ratings_1()\n",
    "prediction_test_1(uD, iD, global_avg)\n",
    "end = time.time() - start\n",
    "print('took ' + str(end) + ' secs')"
   ]
  },
  {
   "cell_type": "code",
   "execution_count": 3,
   "metadata": {
    "collapsed": false
   },
   "outputs": [
    {
     "name": "stdout",
     "output_type": "stream",
     "text": [
      "took 38.7190511227 secs\n"
     ]
    }
   ],
   "source": [
    "\"\"\"Task 2: Purchase Prediction\"\"\"\n",
    "\n",
    "import json\n",
    "import time \n",
    "import ast\n",
    "import copy\n",
    "import numpy as np\n",
    "\n",
    "def parse_ratings_2(filename = \"amazon_reviews_Electronics/train.json\"):\n",
    "    \n",
    "    '''probabilistic analysis: \n",
    "        - goal: compute list of purchase decisions using training data\n",
    "        - for each category, compute percentile of complementary purchases \n",
    "        - P(buy item in different category|user has invested in these categories)\n",
    "        - return 1 if it is at least 50% \n",
    "    \n",
    "       Training:\n",
    "        - each category has median price using meta.json\n",
    "            category: median_price\n",
    "        - group items by their categories using meta.json & price (use category median price if unavailable)\n",
    "            item: [category,price]\n",
    "        \n",
    "        - for each user, get categories that they purchased in and keep total count of each category and overall\n",
    "            user: {category:count}\n",
    "            category_count: count\n",
    "            overall_total = # of reviews\n",
    "        - convert each category count in each user to be a percentile of their total purchases\n",
    "            user: {category:count/total_count}\n",
    "            \n",
    "        - track items by top popularity in each category for use as improved baseline\n",
    "        \n",
    "        -for each category, create bayesian probabilities:\n",
    "        prob(cat_A|cat_B) = prob(cat_B|cat_A)*prob(cat_A) / prob(cat_B)\n",
    "        \n",
    "        \n",
    "       Testing:\n",
    "        -identify category of item\n",
    "        if user in user_dict\n",
    "            - find categories that they purchased in\n",
    "            - find max(prob(item_category|user_categories)),return 1 if > 0.5\n",
    "        if not then perform baseline if item in item_category\n",
    "        if not then default 0\n",
    "        '''\n",
    "    \n",
    "    categories_midprice = {}\n",
    "    items_category = {}\n",
    "    with open('amazon_reviews_Electronics/meta.json','r') as f:\n",
    "        for line in f:\n",
    "            try:\n",
    "                line = line.replace('\\\\','')\n",
    "                line = line.replace(\"'s\",'')\n",
    "                line = line.replace('7\" (','7 (')\n",
    "                line = line.replace('7\" S','7 S')\n",
    "                line = line.replace('(7\")','(7)')\n",
    "                line = line.replace('8.9\" ','8.9 ')\n",
    "                json_line = json.loads(line)\n",
    "            except ValueError:\n",
    "                print line\n",
    "                return 0\n",
    "            cat_name = ast.literal_eval(json_line['categories'])[0]\n",
    "            cat_name = '/'.join(cat_name)\n",
    "            if json_line['price'] == \"\":\n",
    "                price = 0\n",
    "            else:\n",
    "                price = float(json_line['price'])\n",
    "            if cat_name not in categories_midprice:\n",
    "                categories_midprice[cat_name] = [price]\n",
    "            else:\n",
    "                categories_midprice[cat_name] += [price]\n",
    "            itemID = json_line['asin']\n",
    "            items_category[itemID] = [cat_name,price]\n",
    "    \n",
    "    #convert category prices to median price\n",
    "    for category in categories_midprice:\n",
    "        categories_midprice[category] = np.median([i for i in categories_midprice[category] if i > 0])\n",
    "    \n",
    "    #replace non-priced items with median price\n",
    "    for item in items_category:\n",
    "        if items_category[item][1] == 0:\n",
    "            cat,val = items_category[item]\n",
    "            items_category[item] = [cat,categories_midprice[cat]]\n",
    "    \n",
    "    user_dict = {}\n",
    "    item_ratings = {}\n",
    "    with open(filename,'r') as f:\n",
    "        for line in f:\n",
    "            #first 174 chars needed, nothing else\n",
    "            line = line[0:173] + '}'\n",
    "            json_line = json.loads(line)\n",
    "            item_cat,item_price = items_category[json_line['asin']]\n",
    "            if json_line['reviewerID'] not in user_dict:\n",
    "                user_dict[json_line['reviewerID']] = {item_cat:1,'total':1.0}\n",
    "            else:\n",
    "                if item_cat not in user_dict[json_line['reviewerID']]:\n",
    "                    user_dict[json_line['reviewerID']][item_cat] = 1\n",
    "                    user_dict[json_line['reviewerID']]['total'] += 1.0\n",
    "                else:\n",
    "                    user_dict[json_line['reviewerID']][item_cat] = 1\n",
    "                    user_dict[json_line['reviewerID']]['total'] += 1.0\n",
    "            if json_line['asin'] not in item_ratings:\n",
    "                item_ratings[json_line['asin']] = [json_line['overall']]\n",
    "            else:\n",
    "                item_ratings[json_line['asin']] += [json_line['overall']]\n",
    "                \n",
    "    #convert category counts into percentiles, remove total count\n",
    "    for user in user_dict:\n",
    "        for cat in user_dict[user]:\n",
    "            if cat == 'total':\n",
    "                continue\n",
    "            else:\n",
    "                user_dict[user][cat] = user_dict[user][cat]/user_dict[user]['total']\n",
    "        del user_dict[user]['total']\n",
    "        \n",
    "    #convert item ratings to averages\n",
    "    for item in item_ratings:\n",
    "        item_ratings[item] = np.average(item_ratings[item])\n",
    "    #store median rating\n",
    "    median_rating = np.median(item_ratings.values())\n",
    "    \n",
    "    #create category percentiles for each category (P(cat_A|cat_i) for all cat_i)\n",
    "    category_prob = {}\n",
    "    for user in user_dict:\n",
    "        for cat in user_dict[user]:\n",
    "            if cat not in category_prob:\n",
    "                category_prob[cat] = copy.deepcopy(user_dict[user])\n",
    "            else:\n",
    "                #ignore singular purchases\n",
    "                if len(user_dict[user]) > 1:\n",
    "                    for i in user_dict[user]:\n",
    "                        if i not in category_prob[cat]:\n",
    "                            category_prob[cat][i] = user_dict[user][i]\n",
    "                        else:\n",
    "                            category_prob[cat][i] += user_dict[user][i]\n",
    "    \n",
    "    \n",
    "            \n",
    "    \n",
    "    #normalize probabilities in each category\n",
    "    for cat in category_prob:\n",
    "        cat_i = category_prob[cat][cat]\n",
    "        for cat_a in category_prob[cat]:\n",
    "            category_prob[cat][cat_a] = category_prob[cat][cat_a] / cat_i\n",
    "        del category_prob[cat][cat]\n",
    "    \n",
    "    #use probabilities to correct bayesian probablities in each category\n",
    "    \n",
    "    predictions = open(\"predictions_Purchase.txt\", 'w')\n",
    "    with open(\"amazon_reviews_Electronics/pairs_Purchase.txt\",'r') as f:\n",
    "        for line in f:\n",
    "            if \"reviewerID-asin\" in line:\n",
    "                #header\n",
    "                predictions.write(line)\n",
    "                continue\n",
    "            else:\n",
    "                userID,itemID = line.strip().split('-')\n",
    "                #if user has purchase history\n",
    "                item_cat = items_category[itemID][0]\n",
    "                try:\n",
    "                    user_categories = user_dict[userID]\n",
    "                    probabilities = []\n",
    "                    for category in user_categories:\n",
    "                        probabilities += [category_prob[category][item_cat] / user_categories[category]]\n",
    "                    if sum(probabilities) >= 0.01:\n",
    "                        prediction = 1\n",
    "                    else:\n",
    "                        prediction = 0\n",
    "                except KeyError:\n",
    "                    #no purchase history, perform baseline with known ratings\n",
    "                    try:\n",
    "                        item_rating = item_ratings[itemID]\n",
    "                        if item_rating > median_rating:\n",
    "                            prediction = 0\n",
    "                        else:\n",
    "                            prediction = 1\n",
    "                \n",
    "                    except KeyError:\n",
    "                        #no known ratings or purchase history, default to 0\n",
    "                        prediction = 0\n",
    "            predictions.write(userID + '-' + itemID + ',' + str(prediction) + '\\n')\n",
    "        predictions.close()\n",
    "        \n",
    "start = time.time()\n",
    "parse_ratings_2()\n",
    "end = time.time() - start\n",
    "print('took ' + str(end) + ' secs')"
   ]
  },
  {
   "cell_type": "code",
   "execution_count": 19,
   "metadata": {
    "collapsed": false
   },
   "outputs": [
    {
     "name": "stdout",
     "output_type": "stream",
     "text": [
      "took 4.16630196571 secs\n"
     ]
    }
   ],
   "source": [
    "'''Task 3: Helpfulness Prediction'''\n",
    "\n",
    "def parse_ratings_3(filename = \"amazon_reviews_Electronics/helpful.json\"):\n",
    "    '''goal: compare user's overall rating to item average rating or category average and calculate the percent difference,\n",
    "        and account for the length of the review itself (longer=more helpful)\n",
    "       \n",
    "       training:\n",
    "       - group items by their categories using meta.json \n",
    "           item: category\n",
    "       - in training data, keep track of user-review: overall_rating/review_len, item:avg_rating, and category: avg_rating\n",
    "           userID:{itemID:[overall,review_len]}\n",
    "           item:avg_rating\n",
    "           category:avg_rating\n",
    "           \n",
    "       testing:\n",
    "       - ((average_rating - overall_rating)/average_rating) * outOf'''\n",
    "    \n",
    "    user_reviews = {}\n",
    "    with open(filename,'r') as f:\n",
    "        for line in f:\n",
    "            json_line = json.loads(line)\n",
    "            if json_line['reviewerID'] not in user_reviews:\n",
    "                user_reviews[json_line['reviewerID']] = {json_line['asin']:json_line['overall']}\n",
    "            else:\n",
    "                user_reviews[json_line['reviewerID']][json_line['asin']] = json_line['overall']\n",
    "    \n",
    "    item_rating = {}\n",
    "    with open(filename,'r') as f:\n",
    "        for line in f:\n",
    "            #first 174 chars needed, nothing else\n",
    "            line = line[0:173] + '}'\n",
    "            json_line = json.loads(line)\n",
    "            if json_line['asin'] not in item_rating:\n",
    "                item_rating[json_line['asin']] = [json_line['overall']]\n",
    "            else:\n",
    "                item_rating[json_line['asin']] += [json_line['overall']]\n",
    "    \n",
    "    for item in item_rating:\n",
    "        item_rating[item] = np.average(item_rating[item])\n",
    "        \n",
    "    predictions = open(\"predictions_Helpful.txt\", 'w')\n",
    "    with open(\"amazon_reviews_Electronics/pairs_Helpful.txt\",'r') as f:\n",
    "        for line in f:\n",
    "            if \"reviewerID-asin\" in line:\n",
    "                #header\n",
    "                predictions.write(line)\n",
    "                continue\n",
    "            else:\n",
    "                userID,itemID,outOf = line.strip().split('-')\n",
    "                itemrate = item_rating[itemID]\n",
    "                overall = user_reviews[userID][itemID]\n",
    "                outOf = int(outOf)\n",
    "                prediction = (1.00 - ((itemrate-overall)/itemrate)**2)*outOf\n",
    "            predictions.write(userID + '-' + itemID + '-' + str(outOf) + ',' + str(prediction) + '\\n')\n",
    "        predictions.close()\n",
    "    \n",
    "start = time.time()\n",
    "parse_ratings_3()\n",
    "end = time.time() - start\n",
    "print('took ' + str(end) + ' secs')"
   ]
  },
  {
   "cell_type": "code",
   "execution_count": 63,
   "metadata": {
    "collapsed": false
   },
   "outputs": [
    {
     "ename": "IOError",
     "evalue": "[Errno 2] No such file or directory: '../theme/custom.css'",
     "output_type": "error",
     "traceback": [
      "\u001b[0;31m---------------------------------------------------------------------------\u001b[0m",
      "\u001b[0;31mIOError\u001b[0m                                   Traceback (most recent call last)",
      "\u001b[0;32m<ipython-input-63-a3b95627d7cd>\u001b[0m in \u001b[0;36m<module>\u001b[0;34m()\u001b[0m\n\u001b[1;32m      4\u001b[0m     \u001b[0mstyles\u001b[0m \u001b[0;34m=\u001b[0m \u001b[0mopen\u001b[0m\u001b[0;34m(\u001b[0m\u001b[0;34m\"../theme/custom.css\"\u001b[0m\u001b[0;34m,\u001b[0m \u001b[0;34m\"r\"\u001b[0m\u001b[0;34m)\u001b[0m\u001b[0;34m.\u001b[0m\u001b[0mread\u001b[0m\u001b[0;34m(\u001b[0m\u001b[0;34m)\u001b[0m\u001b[0;34m\u001b[0m\u001b[0m\n\u001b[1;32m      5\u001b[0m     \u001b[0;32mreturn\u001b[0m \u001b[0mHTML\u001b[0m\u001b[0;34m(\u001b[0m\u001b[0mstyles\u001b[0m\u001b[0;34m)\u001b[0m\u001b[0;34m\u001b[0m\u001b[0m\n\u001b[0;32m----> 6\u001b[0;31m \u001b[0mcss_styling\u001b[0m\u001b[0;34m(\u001b[0m\u001b[0;34m)\u001b[0m\u001b[0;34m\u001b[0m\u001b[0m\n\u001b[0m",
      "\u001b[0;32m<ipython-input-63-a3b95627d7cd>\u001b[0m in \u001b[0;36mcss_styling\u001b[0;34m()\u001b[0m\n\u001b[1;32m      2\u001b[0m \u001b[0;32mfrom\u001b[0m \u001b[0mIPython\u001b[0m\u001b[0;34m.\u001b[0m\u001b[0mcore\u001b[0m\u001b[0;34m.\u001b[0m\u001b[0mdisplay\u001b[0m \u001b[0;32mimport\u001b[0m \u001b[0mHTML\u001b[0m\u001b[0;34m\u001b[0m\u001b[0m\n\u001b[1;32m      3\u001b[0m \u001b[0;32mdef\u001b[0m \u001b[0mcss_styling\u001b[0m\u001b[0;34m(\u001b[0m\u001b[0;34m)\u001b[0m\u001b[0;34m:\u001b[0m\u001b[0;34m\u001b[0m\u001b[0m\n\u001b[0;32m----> 4\u001b[0;31m     \u001b[0mstyles\u001b[0m \u001b[0;34m=\u001b[0m \u001b[0mopen\u001b[0m\u001b[0;34m(\u001b[0m\u001b[0;34m\"../theme/custom.css\"\u001b[0m\u001b[0;34m,\u001b[0m \u001b[0;34m\"r\"\u001b[0m\u001b[0;34m)\u001b[0m\u001b[0;34m.\u001b[0m\u001b[0mread\u001b[0m\u001b[0;34m(\u001b[0m\u001b[0;34m)\u001b[0m\u001b[0;34m\u001b[0m\u001b[0m\n\u001b[0m\u001b[1;32m      5\u001b[0m     \u001b[0;32mreturn\u001b[0m \u001b[0mHTML\u001b[0m\u001b[0;34m(\u001b[0m\u001b[0mstyles\u001b[0m\u001b[0;34m)\u001b[0m\u001b[0;34m\u001b[0m\u001b[0m\n\u001b[1;32m      6\u001b[0m \u001b[0mcss_styling\u001b[0m\u001b[0;34m(\u001b[0m\u001b[0;34m)\u001b[0m\u001b[0;34m\u001b[0m\u001b[0m\n",
      "\u001b[0;31mIOError\u001b[0m: [Errno 2] No such file or directory: '../theme/custom.css'"
     ]
    }
   ],
   "source": [
    "# Code for setting the style of the notebook\n",
    "from IPython.core.display import HTML\n",
    "def css_styling():\n",
    "    styles = open(\"../theme/custom.css\", \"r\").read()\n",
    "    return HTML(styles)\n",
    "css_styling()"
   ]
  },
  {
   "cell_type": "code",
   "execution_count": null,
   "metadata": {
    "collapsed": true
   },
   "outputs": [],
   "source": []
  }
 ],
 "metadata": {
  "kernelspec": {
   "display_name": "Python 2",
   "language": "python",
   "name": "python2"
  },
  "language_info": {
   "codemirror_mode": {
    "name": "ipython",
    "version": 2
   },
   "file_extension": ".py",
   "mimetype": "text/x-python",
   "name": "python",
   "nbconvert_exporter": "python",
   "pygments_lexer": "ipython2",
   "version": "2.7.11"
  }
 },
 "nbformat": 4,
 "nbformat_minor": 0
}
