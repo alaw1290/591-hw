{
 "cells": [
  {
   "cell_type": "markdown",
   "metadata": {},
   "source": [
    "(In order to load the stylesheet of this notebook, execute the last code cell in this notebook)"
   ]
  },
  {
   "cell_type": "markdown",
   "metadata": {},
   "source": [
    "# Yelp Reviews and Clustering"
   ]
  },
  {
   "cell_type": "markdown",
   "metadata": {},
   "source": [
    "In this assignment, we will be working with the [Yelp dataset](http://cs-people.bu.edu/kzhao/teaching/yelp_dataset_challenge_academic_dataset.tar). You can find the format of the dataset [here](https://www.yelp.com/dataset_challenge)."
   ]
  },
  {
   "cell_type": "markdown",
   "metadata": {},
   "source": [
    "First, we will look at Review Objects and perform some [sentiment analysis](http://sentiment.christopherpotts.net/) on the review text.\n",
    "\n",
    "You will need to preprocess the text using a stemming algorithm. The Porter stemming algorithm is a well-known one. Then, use a lexicon to assign a score to a review based on the positive/negative words you find in the text. You can find various lexicons [here](http://sentiment.christopherpotts.net/lexicons.html).\n",
    "\n",
    "After you have assigned scores to the reviews based on the text analysis, compare your scores with the stars associated with the reviews. **(20 pts)**"
   ]
  },
  {
   "cell_type": "code",
   "execution_count": 38,
   "metadata": {
    "collapsed": false
   },
   "outputs": [
    {
     "data": {
      "image/png": "[encoded data removed]",
      "text/plain": [
       "<matplotlib.figure.Figure at 0x116e2b690>"
      ]
     },
     "metadata": {},
     "output_type": "display_data"
    },
    {
     "name": "stdout",
     "output_type": "stream",
     "text": [
      "('Time: ', 1.1952409744262695)\n",
      "      stars     sentiment\n",
      "3739      1  1.209731e-01\n",
      "6384      1 -1.579782e-01\n",
      "2119      1 -5.311960e-01\n",
      "2116      1 -1.748330e-01\n",
      "2113      1  4.247651e-02\n",
      "2112      1  3.121438e-02\n",
      "2109      1  5.622500e-02\n",
      "7754      1 -2.315278e-01\n",
      "9331      1 -5.760448e-01\n",
      "9333      1  1.114397e-01\n",
      "9346      1  1.670820e-01\n",
      "9350      1  1.317575e-01\n",
      "2064      1 -1.554517e-01\n",
      "2061      1 -7.037559e-02\n",
      "9359      1  2.399758e-02\n",
      "9361      1 -5.161621e-01\n",
      "9362      1 -2.091864e-01\n",
      "9364      1  1.405271e-01\n",
      "7749      1 -2.703565e-02\n",
      "9366      1  3.467635e-01\n",
      "9370      1 -1.181250e-01\n",
      "9373      1 -1.853833e-02\n",
      "9375      1 -1.738301e-01\n",
      "2029      1 -7.291586e-02\n",
      "9328      1 -1.448716e-01\n",
      "6422      1  6.726918e-02\n",
      "2143      1 -9.359036e-02\n",
      "2146      1 -8.247840e-02\n",
      "2232      1 -3.232327e-03\n",
      "2230      1  5.468575e-02\n",
      "...     ...           ...\n",
      "4569      5  1.972000e-01\n",
      "4566      5  2.113298e-01\n",
      "4563      5  2.024691e-01\n",
      "4562      5  2.716332e-01\n",
      "4560      5  1.445014e-01\n",
      "4559      5  2.002985e-01\n",
      "4558      5  0.000000e+00\n",
      "4557      5  0.000000e+00\n",
      "4567      5  2.734940e-01\n",
      "4553      5  3.496677e-01\n",
      "4582      5  2.829709e-02\n",
      "4586      5  2.210890e-01\n",
      "4609      5  3.200000e-01\n",
      "4607      5  1.151095e-01\n",
      "4606      5  1.236709e-01\n",
      "4604      5 -5.013696e-03\n",
      "4600      5 -2.784700e-02\n",
      "4599      5  1.197390e-01\n",
      "4598      5  6.586645e-18\n",
      "4584      5  9.786540e-02\n",
      "4597      5  2.155212e-01\n",
      "4595      5  6.663086e-02\n",
      "4594      5  1.591494e-01\n",
      "4593      5  1.816262e-03\n",
      "4592      5  8.205467e-02\n",
      "4591      5  2.262239e-01\n",
      "4590      5  0.000000e+00\n",
      "4589      5  1.446382e-01\n",
      "4596      5  2.000559e-01\n",
      "9999      5  8.500000e-02\n",
      "\n",
      "[10000 rows x 2 columns]\n"
     ]
    },
    {
     "data": {
      "text/plain": [
       "'\\nstart = time.time()\\ns1 = sentiment_score(\"After sitting there and being ignored for 25 minutes we just left!\")\\nend = time.time() - start\\nprint(\"Time: \", end)\\nprint(s1)\\n\\nsid = SentimentIntensityAnalyzer()\\nstart = time.time()\\ns2 = sid.polarity_scores(\"After sitting there and being ignored for 25 minutes we just left!\")\\ns2 = s2[\\'pos\\']-s2[\\'neg\\']\\nend = time.time() - start\\nprint(\"Time: \", end)\\nprint(s2)\\n'"
      ]
     },
     "execution_count": 38,
     "metadata": {},
     "output_type": "execute_result"
    }
   ],
   "source": [
    "\"\"\"\n",
    "read file\n",
    "read line by line to extract json object\n",
    "nltk sentiment intensity analyzer - takes in string returns sentiment\n",
    "\"\"\"\n",
    "\n",
    "import json\n",
    "import numpy as np\n",
    "from nltk.sentiment.vader import SentimentIntensityAnalyzer \n",
    "from nltk.stem import *\n",
    "import matplotlib.pyplot as plt\n",
    "import pandas as pd\n",
    "import time\n",
    "\n",
    "%matplotlib inline\n",
    "\n",
    "path = \"/Users/ALaw/Desktop/Stuff/2016 Spring/591/submissions/591-hw/hw2-submission/yelp_dataset_challenge_academic_dataset/\"\n",
    "filename = path + \"review_sample.json\"\n",
    "stemmer = PorterStemmer()\n",
    "\n",
    "#Read through the Vader lexicon, put them into global dictionary \"words\"\n",
    "lexicons = open(\"/Users/ALaw/Desktop/Stuff/2016 Spring/591/submissions/591-hw/hw2-submission/vader_lexicon.txt\",'r')\n",
    "words = dict()\n",
    "for line in lexicons:\n",
    "    line = line.split('\\t')\n",
    "    words[line[0]] = [float(line[1]),float(line[2])]\n",
    "lexicons.close()\n",
    "\n",
    "#Sentiment scoring function\n",
    "def sentiment_score(string):\n",
    "    '''reads a string and runs a stemmer to break down words to evaluate sentimental score'''\n",
    "    string = string.split()\n",
    "    #string = [stemmer.stem(word) for word in string]\n",
    "    raw = 0.0\n",
    "    length = len(string)\n",
    "    compound = 0.0\n",
    "    for i in string:\n",
    "        if i in words:\n",
    "            raw += words[i][0] \n",
    "            compound = max(compound,words[i][1]) \n",
    "    return (raw/length)\n",
    "\n",
    "\n",
    "#Parse function\n",
    "def parse(fn=filename):\n",
    "    '''Read line by line and extract (x,y) coordinates, where x = sentiment intensity and y = star rating'''\n",
    "    \n",
    "    data= []\n",
    "    #sid = SentimentIntensityAnalyzer()\n",
    "    \n",
    "    with open(fn,'r') as f:\n",
    "        for line in f:\n",
    "            json_line = json.loads(line)\n",
    "            scores = sentiment_score(json_line['text'])\n",
    "            #scores = sid.polarity_scores(json_line['text'])\n",
    "            #scores = (scores['pos']-scores['neg'])*scores['compound']\n",
    "            stars = json_line['stars']\n",
    "            data.append((stars,scores))\n",
    "    \n",
    "    data = pd.DataFrame(data,columns = ['stars','sentiment'])\n",
    "    data = data.sort_values('stars')\n",
    "    data.to_csv('data_sample.csv')\n",
    "    return data\n",
    "\n",
    "#test case for parse + sentiment scoring\n",
    "start = time.time()\n",
    "d = parse()\n",
    "visualize(d)\n",
    "end = time.time() - start\n",
    "print(\"Time: \", end)\n",
    "print(d)\n",
    "\n",
    "#test case for sentiment scoring\n",
    "\"\"\"\n",
    "start = time.time()\n",
    "s1 = sentiment_score(\"After sitting there and being ignored for 25 minutes we just left!\")\n",
    "end = time.time() - start\n",
    "print(\"Time: \", end)\n",
    "print(s1)\n",
    "\n",
    "sid = SentimentIntensityAnalyzer()\n",
    "start = time.time()\n",
    "s2 = sid.polarity_scores(\"After sitting there and being ignored for 25 minutes we just left!\")\n",
    "s2 = s2['pos']-s2['neg']\n",
    "end = time.time() - start\n",
    "print(\"Time: \", end)\n",
    "print(s2)\n",
    "\"\"\""
   ]
  },
  {
   "cell_type": "code",
   "execution_count": 33,
   "metadata": {
    "collapsed": true
   },
   "outputs": [],
   "source": [
    "#visualize funcion\n",
    "def visualize(data):\n",
    "    '''Visualizes the sentiment vs star rating data through a scatter plot and runs linear regression'''\n",
    "    \n",
    "    x = np.array(data['sentiment'])\n",
    "    y = np.array(data['stars'])\n",
    "    \n",
    "    plt.figure(figsize=(10,9))\n",
    "    plt.scatter(x, y, color = ['r']*len(y))\n",
    "    plt.title('Review Data Scatterplot')\n",
    "    plt.ylabel('# of Stars')\n",
    "    plt.xlabel('Sentiment Score') \n",
    "    plt.show()"
   ]
  },
  {
   "cell_type": "markdown",
   "metadata": {},
   "source": [
    "Visualization and short (detailed) analysis. **(10 pts)**"
   ]
  },
  {
   "cell_type": "code",
   "execution_count": null,
   "metadata": {
    "collapsed": false
   },
   "outputs": [],
   "source": [
    "\n"
   ]
  },
  {
   "cell_type": "markdown",
   "metadata": {},
   "source": [
    "-----------------"
   ]
  },
  {
   "cell_type": "markdown",
   "metadata": {},
   "source": [
    "Now, let's look at Business Objects. Try to find culinary districts in Las Vegas. These are characterized by closeness and similarity of restaurants. Use the \"longitude\" and \"latitude\" to cluster closeness. Use \"categories\" and \"attributes\" to cluster for similarity.\n",
    "\n",
    "Find clusters using the 3 different techniques we discussed in class: k-means++, hierarchical, and GMM. Explain your data representation and how you determined certain parameters (for example, the number of clusters in k-means++). **(30 pts)**\n",
    "\n",
    "Things you may want to consider:\n",
    "1. The spatial coordinates and restaurant categories/attributes have different units of scale. Your results could be arbitrarily skewed if you don't incorporate some scaling.\n",
    "2. Some restaurant types are inherently more common than others. For example, there are probably lots of \"pizza\" restaurants. You may want to normalize your vectors so that you don't end up with only clusters of \"pizza\" restaurants."
   ]
  },
  {
   "cell_type": "code",
   "execution_count": null,
   "metadata": {
    "collapsed": true
   },
   "outputs": [],
   "source": []
  },
  {
   "cell_type": "markdown",
   "metadata": {},
   "source": [
    "Visualize your clusters using each technique. Label your clusters. **(10 pts)**"
   ]
  },
  {
   "cell_type": "code",
   "execution_count": null,
   "metadata": {
    "collapsed": true
   },
   "outputs": [],
   "source": []
  },
  {
   "cell_type": "markdown",
   "metadata": {},
   "source": [
    "Now let's detect outliers. These are the ones who are the farthest from the centroids of their clusters. Track them down and describe any interesting observations that you can make. **(10 pts)**"
   ]
  },
  {
   "cell_type": "code",
   "execution_count": null,
   "metadata": {
    "collapsed": true
   },
   "outputs": [],
   "source": []
  },
  {
   "cell_type": "markdown",
   "metadata": {},
   "source": [
    "Give a short (detailed) analysis comparing the 3 techniques. **(10 pts)**"
   ]
  },
  {
   "cell_type": "markdown",
   "metadata": {},
   "source": []
  },
  {
   "cell_type": "markdown",
   "metadata": {},
   "source": [
    "-----------------"
   ]
  },
  {
   "cell_type": "code",
   "execution_count": null,
   "metadata": {
    "collapsed": false
   },
   "outputs": [],
   "source": [
    "# Code for setting the style of the notebook\n",
    "from IPython.core.display import HTML\n",
    "def css_styling():\n",
    "    styles = open(\"../theme/custom.css\", \"r\").read()\n",
    "    return HTML(styles)\n",
    "css_styling()"
   ]
  }
 ],
 "metadata": {
  "kernelspec": {
   "display_name": "Python 2",
   "language": "python",
   "name": "python2"
  },
  "language_info": {
   "codemirror_mode": {
    "name": "ipython",
    "version": 2
   },
   "file_extension": ".py",
   "mimetype": "text/x-python",
   "name": "python",
   "nbconvert_exporter": "python",
   "pygments_lexer": "ipython2",
   "version": "2.7.10"
  }
 },
 "nbformat": 4,
 "nbformat_minor": 0
}
