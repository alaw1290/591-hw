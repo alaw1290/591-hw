{
 "cells": [
  {
   "cell_type": "markdown",
   "metadata": {},
   "source": [
    "(In order to load the stylesheet of this notebook, execute the last code cell in this notebook)"
   ]
  },
  {
   "cell_type": "markdown",
   "metadata": {},
   "source": [
    "# Analyzing Hotel Ratings on Tripadvisor"
   ]
  },
  {
   "cell_type": "markdown",
   "metadata": {},
   "source": [
    "In this homework we will focus on practicing two techniques: web scraping and regression. For the first part, we will get some basic information for each hotel in Boston. Then, we will fit a regression model on this information and try to analyze it."
   ]
  },
  {
   "cell_type": "markdown",
   "metadata": {},
   "source": [
    "** Task 1 (30 pts)**\n",
    "\n",
    "We will scrape the data using Beautiful Soup. For each hotel that our search returns, we will get the information below.\n",
    "\n",
    "![Information to be scraped](hotel_info.png)\n",
    "\n",
    "Of course, feel free to collect even more data if you want. "
   ]
  },
  {
   "cell_type": "code",
   "execution_count": 16,
   "metadata": {
    "collapsed": false,
    "scrolled": false
   },
   "outputs": [
    {
     "name": "stdout",
     "output_type": "stream",
     "text": [
      "[(u'Omni Parker House', '/Hotel_Review-g60745-d89599-Reviews-Omni_Parker_House-Boston_Massachusetts.html'), (u'Hyatt Regency Boston Harbor', '/Hotel_Review-g60745-d89620-Reviews-Hyatt_Regency_Boston_Harbor-Boston_Massachusetts.html'), (u'Seaport Boston Hotel', '/Hotel_Review-g60745-d94330-Reviews-Seaport_Boston_Hotel-Boston_Massachusetts.html'), (u'Hotel Commonwealth', '/Hotel_Review-g60745-d258705-Reviews-Hotel_Commonwealth-Boston_Massachusetts.html'), (u'Revere Hotel Boston Common', '/Hotel_Review-g60745-d89600-Reviews-Revere_Hotel_Boston_Common-Boston_Massachusetts.html'), (u'The Westin Copley Place', '/Hotel_Review-g60745-d89617-Reviews-The_Westin_Copley_Place-Boston_Massachusetts.html'), (u'Sheraton Boston Hotel', '/Hotel_Review-g60745-d89602-Reviews-Sheraton_Boston_Hotel-Boston_Massachusetts.html'), (u'Boston Harbor Hotel', '/Hotel_Review-g60745-d89575-Reviews-Boston_Harbor_Hotel-Boston_Massachusetts.html'), (u'InterContinental Boston', '/Hotel_Review-g60745-d620703-Reviews-InterContinental_Boston-Boston_Massachusetts.html'), (u'Boston Marriott Copley Place', '/Hotel_Review-g60745-d111416-Reviews-Boston_Marriott_Copley_Place-Boston_Massachusetts.html'), (u'Nine Zero Hotel - a Kimpton Hotel', '/Hotel_Review-g60745-d234752-Reviews-Nine_Zero_Hotel_a_Kimpton_Hotel-Boston_Massachusetts.html'), (u'Lenox Hotel', '/Hotel_Review-g60745-d114134-Reviews-Lenox_Hotel-Boston_Massachusetts.html'), (u'Fairmont Copley Plaza, Boston', '/Hotel_Review-g60745-d111444-Reviews-Fairmont_Copley_Plaza_Boston-Boston_Massachusetts.html'), (u'Courtyard by Marriott Boston Copley Square', '/Hotel_Review-g60745-d313573-Reviews-Courtyard_by_Marriott_Boston_Copley_Square-Boston_Massachusetts.html'), (u'enVision Hotel Boston', '/Hotel_Review-g60745-d3225572-Reviews-EnVision_Hotel_Boston-Boston_Massachusetts.html'), (u'The Langham, Boston', '/Hotel_Review-g60745-d114149-Reviews-The_Langham_Boston-Boston_Massachusetts.html'), (u'The Midtown Hotel', '/Hotel_Review-g60745-d94350-Reviews-The_Midtown_Hotel-Boston_Massachusetts.html'), (u'The Liberty Hotel', '/Hotel_Review-g60745-d647006-Reviews-The_Liberty_Hotel-Boston_Massachusetts.html'), (u'Boston Hotel Buckminster', '/Hotel_Review-g60745-d94372-Reviews-Boston_Hotel_Buckminster-Boston_Massachusetts.html'), (u'Embassy Suites by Hilton Boston - at Logan Airport', '/Hotel_Review-g60745-d268205-Reviews-Embassy_Suites_by_Hilton_Boston_at_Logan_Airport-Boston_Massachusetts.html'), (u'Harborside Inn', '/Hotel_Review-g60745-d94367-Reviews-Harborside_Inn-Boston_Massachusetts.html'), (u'XV Beacon', '/Hotel_Review-g60745-d94337-Reviews-XV_Beacon-Boston_Massachusetts.html'), (u'Boston Marriott Long Wharf', '/Hotel_Review-g60745-d111417-Reviews-Boston_Marriott_Long_Wharf-Boston_Massachusetts.html'), (u'Hilton Boston Downtown / Faneuil Hall', '/Hotel_Review-g60745-d94326-Reviews-Hilton_Boston_Downtown_Faneuil_Hall-Boston_Massachusetts.html'), (u'DoubleTree Club by Hilton Hotel Boston Bayside', '/Hotel_Review-g60745-d94368-Reviews-DoubleTree_Club_by_Hilton_Hotel_Boston_Bayside-Boston_Massachusetts.html'), (u'W Boston', '/Hotel_Review-g60745-d1486034-Reviews-W_Boston-Boston_Massachusetts.html'), (u'Loews Boston Hotel', '/Hotel_Review-g60745-d321151-Reviews-Loews_Boston_Hotel-Boston_Massachusetts.html'), (u'Taj Boston', '/Hotel_Review-g60745-d89615-Reviews-Taj_Boston-Boston_Massachusetts.html'), (u'Holiday Inn Express Boston', '/Hotel_Review-g60745-d121009-Reviews-Holiday_Inn_Express_Boston-Boston_Massachusetts.html'), (u'Residence Inn Boston Back Bay / Fenway', '/Hotel_Review-g60745-d4325990-Reviews-Residence_Inn_Boston_Back_Bay_Fenway-Boston_Massachusetts.html')]\n"
     ]
    }
   ],
   "source": [
    "'''\n",
    "1 - Retrieve all 82 hotels in Boston\n",
    "    - url to get to the first page of hotels: https://www.tripadvisor.com/Hotels-g60745-Boston_Massachusetts-Hotels.html \n",
    "    - url to get to the first page of hotels: https://www.tripadvisor.com/Hotels-g60745-oa30-Boston_Massachusetts-Hotels.html \n",
    "    - url to get to the first page of hotels: https://www.tripadvisor.com/Hotels-g60745-oa60-Boston_Massachusetts-Hotels.html \n",
    "    - extract name and url of each hotel and its page, put into dataframe\n",
    "2 - Collect traveler ratings for each hotel to get avg_score\n",
    "3 - Get Location, Sleep Quality, Rooms, Service, Value and Cleanliness from each hotel\n",
    "'''\n",
    "from bs4 import BeautifulSoup\n",
    "import requests\n",
    "import json\n",
    "import time\n",
    "import pandas as pd\n",
    "\n",
    "\n",
    "url_1 = 'https://www.tripadvisor.com/Hotels-g60745-Boston_Massachusetts-Hotels.html'\n",
    "url_2 = 'https://www.tripadvisor.com/Hotels-g60745-oa30-Boston_Massachusetts-Hotels.html'\n",
    "url_3 = 'https://www.tripadvisor.com/Hotels-g60745-oa60-Boston_Massachusetts-Hotels.html'\n",
    "user_agent = 'Mozilla/5.0 (Macintosh; Intel Mac OS X 10_10_2) AppleWebKit/537.36 (KHTML, like Gecko) Chrome/41.0.2272.76 Safari/537.36'\n",
    "\n",
    "def parse_hotels():\n",
    "    '''Record list of all hotels in Boston + urls to review page'''\n",
    "    hotel_list = []\n",
    "    headers = {'User-Agent' : user_agent }\n",
    "    \n",
    "    response = requests.get(url_1, headers=headers)\n",
    "    html = response.text.encode('utf-8')\n",
    "    soup = BeautifulSoup(html)\n",
    "    hotel_boxes = soup.findAll('div', {'class' :'listing easyClear  p13n_imperfect '})\n",
    "    for hotel_box in hotel_boxes:\n",
    "        name = hotel_box.find('div', {'class' :'listing_title'}).find(text=True)\n",
    "        url = hotel_box.find('div', {'class' :'listing_title'}).find('a',href=True)['href']\n",
    "        hotel_list.append([name,url])\n",
    "        \n",
    "    print hotel_list\n",
    "    \n",
    "parse_hotels()"
   ]
  },
  {
   "cell_type": "markdown",
   "metadata": {},
   "source": [
    "** Task 2 (20 pts) **\n",
    "\n",
    "Now, we will use regression to analyze this information. First, we will fit a linear regression model that predicts the average rating. For example, for the hotel above, the average rating is\n",
    "\n",
    "$$ \\text{AVG_SCORE} = \\frac{1*31 + 2*33 + 3*98 + 4*504 + 5*1861}{2527}$$\n",
    "\n",
    "Use the model to analyze the important factors that decide the $\\text{AVG_SCORE}$."
   ]
  },
  {
   "cell_type": "markdown",
   "metadata": {},
   "source": [
    "** Task 3 (30 pts) **\n",
    "\n",
    "Finally, we will use logistic regression to decide if a hotel is _excellent_ or not. We classify a hotel as _excellent_ if more than **60%** of its ratings are 5 stars. This is a binary attribute on which we can fit a logistic regression model. As before, use the model to analyze the data."
   ]
  },
  {
   "cell_type": "markdown",
   "metadata": {},
   "source": [
    "-------"
   ]
  },
  {
   "cell_type": "code",
   "execution_count": null,
   "metadata": {
    "collapsed": false
   },
   "outputs": [],
   "source": [
    "# Code for setting the style of the notebook\n",
    "from IPython.core.display import HTML\n",
    "def css_styling():\n",
    "    styles = open(\"../../theme/custom.css\", \"r\").read()\n",
    "    return HTML(styles)\n",
    "css_styling()"
   ]
  }
 ],
 "metadata": {
  "kernelspec": {
   "display_name": "Python 2",
   "language": "python",
   "name": "python2"
  },
  "language_info": {
   "codemirror_mode": {
    "name": "ipython",
    "version": 2
   },
   "file_extension": ".py",
   "mimetype": "text/x-python",
   "name": "python",
   "nbconvert_exporter": "python",
   "pygments_lexer": "ipython2",
   "version": "2.7.11"
  }
 },
 "nbformat": 4,
 "nbformat_minor": 0
}
