{
 "cells": [
  {
   "cell_type": "markdown",
   "metadata": {},
   "source": [
    "(In order to load the stylesheet of this notebook, execute the last code cell in this notebook)"
   ]
  },
  {
   "cell_type": "markdown",
   "metadata": {},
   "source": [
    "# Analyzing Hotel Ratings on Tripadvisor"
   ]
  },
  {
   "cell_type": "markdown",
   "metadata": {},
   "source": [
    "In this homework we will focus on practicing two techniques: web scraping and regression. For the first part, we will get some basic information for each hotel in Boston. Then, we will fit a regression model on this information and try to analyze it."
   ]
  },
  {
   "cell_type": "markdown",
   "metadata": {},
   "source": [
    "** Task 1 (30 pts)**\n",
    "\n",
    "We will scrape the data using Beautiful Soup. For each hotel that our search returns, we will get the information below.\n",
    "\n",
    "![Information to be scraped](hotel_info.png)\n",
    "\n",
    "Of course, feel free to collect even more data if you want. "
   ]
  },
  {
   "cell_type": "code",
   "execution_count": 91,
   "metadata": {
    "collapsed": false,
    "scrolled": true
   },
   "outputs": [
    {
     "name": "stdout",
     "output_type": "stream",
     "text": [
      "Completed, time: 1374.39435792 secs\n"
     ]
    }
   ],
   "source": [
    "'''\n",
    "1 - Retrieve all 82 hotels in Boston\n",
    "    - url to get to the first page of hotels: https://www.tripadvisor.com/Hotels-g60745-Boston_Massachusetts-Hotels.html \n",
    "    - url to get to the first page of hotels: https://www.tripadvisor.com/Hotels-g60745-oa30-Boston_Massachusetts-Hotels.html \n",
    "    - url to get to the first page of hotels: https://www.tripadvisor.com/Hotels-g60745-oa60-Boston_Massachusetts-Hotels.html \n",
    "    - extract name and url of each hotel and its page\n",
    "2 - Collect traveler ratings for Omni Park House to  Location, Sleep Quality, Rooms, Service, Value and Cleanliness from\n",
    "    each hotel\n",
    "    - \n",
    "'''\n",
    "from bs4 import BeautifulSoup\n",
    "import requests\n",
    "import time\n",
    "import pandas as pd\n",
    "from contextlib import contextmanager\n",
    "from selenium import webdriver\n",
    "from selenium.webdriver.common.by import By\n",
    "from selenium.webdriver.support.ui import WebDriverWait\n",
    "from selenium.webdriver.support import expected_conditions as EC\n",
    "\n",
    "base_url = 'https://www.tripadvisor.com'\n",
    "url_list = ['https://www.tripadvisor.com/Hotels-g60745-Boston_Massachusetts-Hotels.html','https://www.tripadvisor.com/Hotels-g60745-oa30-Boston_Massachusetts-Hotels.html','https://www.tripadvisor.com/Hotels-g60745-oa60-Boston_Massachusetts-Hotels.html']\n",
    "user_agent = 'Mozilla/5.0 (Macintosh; Intel Mac OS X 10_10_2) AppleWebKit/537.36 (KHTML, like Gecko) Chrome/41.0.2272.76 Safari/537.36'\n",
    "\n",
    "def parse_hotels():\n",
    "    '''Record list of all hotels in Boston + urls to review page'''\n",
    "    hotel_list = {}\n",
    "    headers = {'User-Agent' : user_agent }\n",
    "    for i in range(len(url_list)):\n",
    "        response = requests.get(url_list[i], headers=headers)\n",
    "        html = response.text.encode('utf-8')\n",
    "        soup = BeautifulSoup(html,\"lxml\")\n",
    "        hotel_boxes = soup.findAll('div', {'class' :'listing easyClear  p13n_imperfect '})\n",
    "        for hotel_box in hotel_boxes:\n",
    "            name = hotel_box.find('div', {'class' :'listing_title'}).find(text=True)\n",
    "            url = hotel_box.find('div', {'class' :'listing_title'}).find('a',href=True)['href']\n",
    "            hotel_list[name] = url\n",
    "    return hotel_list\n",
    "\n",
    "def parse_hotel_reviews(hotel_list, hotel_name = \"Omni Parker House\"):\n",
    "    '''Scrapes each review of a specific hotel to get review_body_id : attribute : rating\n",
    "       Input: hotel_list, hotel = \"Omni Parker House\"'''\n",
    "    \n",
    "    #create file\n",
    "    ratings_file = open('OPH_rating_summary.txt', 'w+')\n",
    "    \n",
    "    hotel_url = hotel_list[hotel_name]\n",
    "    headers = {'User-Agent' : user_agent}\n",
    "    response = requests.get(base_url + hotel_url, headers=headers)\n",
    "    html = response.text.encode('utf-8')\n",
    "    soup = BeautifulSoup(html,\"lxml\")\n",
    "    html = response.text.encode('utf-8')\n",
    "    \n",
    "    #soupify html then find the first review url on the hotel front page\n",
    "    review_box = soup.find('div', {'class' :'reviewSelector   track_back'})\n",
    "    review_url = review_box.find('div',{'class' :'quote'}).find('a',href=True)['href']\n",
    "    review_url = review_url.split('#')[0]\n",
    "    \n",
    "    #url is obtained, use selenium to load first page\n",
    "    driver = webdriver.Firefox()\n",
    "    n = 0\n",
    "    driver.get(base_url + review_url + \"#or\" + str(n))\n",
    "    \n",
    "    #get number of pages\n",
    "    soup = BeautifulSoup(driver.page_source,\"lxml\")\n",
    "    num_pages = int(soup.find('h3',{'class':\"reviews_header\"}).find(text=True).split(\" reviews from our \")[0].replace(',', ''))\n",
    "    num_pages = num_pages/7 + 1\n",
    "    \n",
    "    #retrieve the n to the n+7th review data on each page, avoid duplicate review on top of the page\n",
    "    for i in range(num_pages):\n",
    "        current_page = driver.find_element_by_id('REVIEWS')\n",
    "        soup = BeautifulSoup(driver.page_source,\"lxml\")\n",
    "\n",
    "        if i > 0:\n",
    "            review_boxes = soup.findAll('div', {'class' :\" reviewSelector \"})[1:]\n",
    "        else:\n",
    "            review_boxes = soup.findAll('div', {'class' :\" reviewSelector \"})\n",
    "            \n",
    "        for review_box in review_boxes:\n",
    "            review_id = review_box['id']\n",
    "            ratings = review_box.findAll('li',{'class':\"recommend-answer\"})\n",
    "            if len(ratings) != 0:\n",
    "                for rating in ratings:\n",
    "                    rating_score = rating.find('img')['alt'].split(' of 5')[0]\n",
    "                    rating_cat = rating.find('div',{'class':\"recommend-description\"}).find(text=True)\n",
    "                    ratings_file.write(str(review_id) + ':' + str(rating_cat) + ':' + str(rating_score) + '\\n')\n",
    "        n += 7   \n",
    "        driver.get(base_url + review_url + \"#or\" + str(n))\n",
    "        current_page = WebDriverWait(driver, 10).until(EC.staleness_of(current_page))\n",
    "        \n",
    "    driver.quit()\n",
    "    ratings_file.close()\n",
    "\n",
    "start = time.time()\n",
    "hlist = parse_hotels()\n",
    "parse_hotel_reviews(hlist)\n",
    "end = time.time() - start\n",
    "print(\"Completed, time: \" + str(end) + \" secs\")"
   ]
  },
  {
   "cell_type": "markdown",
   "metadata": {},
   "source": [
    "** Task 2 (20 pts) **\n",
    "\n",
    "Now, we will use regression to analyze this information. First, we will fit a linear regression model that predicts the average rating. For example, for the hotel above, the average rating is\n",
    "\n",
    "$$ \\text{AVG_SCORE} = \\frac{1*31 + 2*33 + 3*98 + 4*504 + 5*1861}{2527}$$\n",
    "\n",
    "Use the model to analyze the important factors that decide the $\\text{AVG_SCORE}$."
   ]
  },
  {
   "cell_type": "code",
   "execution_count": null,
   "metadata": {
    "collapsed": true
   },
   "outputs": [],
   "source": []
  },
  {
   "cell_type": "markdown",
   "metadata": {},
   "source": [
    "** Task 3 (30 pts) **\n",
    "\n",
    "Finally, we will use logistic regression to decide if a hotel is _excellent_ or not. We classify a hotel as _excellent_ if more than **60%** of its ratings are 5 stars. This is a binary attribute on which we can fit a logistic regression model. As before, use the model to analyze the data."
   ]
  },
  {
   "cell_type": "markdown",
   "metadata": {},
   "source": [
    "-------"
   ]
  },
  {
   "cell_type": "code",
   "execution_count": null,
   "metadata": {
    "collapsed": false
   },
   "outputs": [],
   "source": [
    "# Code for setting the style of the notebook\n",
    "from IPython.core.display import HTML\n",
    "def css_styling():\n",
    "    styles = open(\"../../theme/custom.css\", \"r\").read()\n",
    "    return HTML(styles)\n",
    "css_styling()"
   ]
  }
 ],
 "metadata": {
  "kernelspec": {
   "display_name": "Python 2",
   "language": "python",
   "name": "python2"
  },
  "language_info": {
   "codemirror_mode": {
    "name": "ipython",
    "version": 2
   },
   "file_extension": ".py",
   "mimetype": "text/x-python",
   "name": "python",
   "nbconvert_exporter": "python",
   "pygments_lexer": "ipython2",
   "version": "2.7.11"
  }
 },
 "nbformat": 4,
 "nbformat_minor": 0
}
