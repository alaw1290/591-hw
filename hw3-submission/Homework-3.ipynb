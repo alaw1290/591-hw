{
 "cells": [
  {
   "cell_type": "markdown",
   "metadata": {},
   "source": [
    "(In order to load the stylesheet of this notebook, execute the last code cell in this notebook)"
   ]
  },
  {
   "cell_type": "markdown",
   "metadata": {},
   "source": [
    "# Analyzing Hotel Ratings on Tripadvisor"
   ]
  },
  {
   "cell_type": "markdown",
   "metadata": {},
   "source": [
    "In this homework we will focus on practicing two techniques: web scraping and regression. For the first part, we will get some basic information for each hotel in Boston. Then, we will fit a regression model on this information and try to analyze it."
   ]
  },
  {
   "cell_type": "markdown",
   "metadata": {},
   "source": [
    "** Task 1 (30 pts)**\n",
    "\n",
    "We will scrape the data using Beautiful Soup. For each hotel that our search returns, we will get the information below.\n",
    "\n",
    "![Information to be scraped](hotel_info.png)\n",
    "\n",
    "Of course, feel free to collect even more data if you want. "
   ]
  },
  {
   "cell_type": "code",
   "execution_count": 21,
   "metadata": {
    "collapsed": false,
    "scrolled": false
   },
   "outputs": [
    {
     "data": {
      "text/plain": [
       "{u'Aloft Boston Seaport': '/Hotel_Review-g60745-d8145466-Reviews-Aloft_Boston_Seaport-Boston_Massachusetts.html',\n",
       " u'Americas Best Value Inn': '/Hotel_Review-g60745-d216999-Reviews-Americas_Best_Value_Inn-Boston_Massachusetts.html',\n",
       " u'Ames Boston Hotel': '/Hotel_Review-g60745-d1513541-Reviews-Ames_Boston_Hotel-Boston_Massachusetts.html',\n",
       " u'BEST WESTERN PLUS Roundhouse Suites': '/Hotel_Review-g60745-d222957-Reviews-BEST_WESTERN_PLUS_Roundhouse_Suites-Boston_Massachusetts.html',\n",
       " u'BEST WESTERN University Hotel Boston-Brighton': '/Hotel_Review-g60745-d77629-Reviews-BEST_WESTERN_University_Hotel_Boston_Brighton-Boston_Massachusetts.html',\n",
       " u'Battery Wharf Hotel, Boston Waterfront': '/Hotel_Review-g60745-d1201116-Reviews-Battery_Wharf_Hotel_Boston_Waterfront-Boston_Massachusetts.html',\n",
       " u'Beacon Hill Hotel and Bistro': '/Hotel_Review-g60745-d220216-Reviews-Beacon_Hill_Hotel_and_Bistro-Boston_Massachusetts.html',\n",
       " u'Boston Harbor Hotel': '/Hotel_Review-g60745-d89575-Reviews-Boston_Harbor_Hotel-Boston_Massachusetts.html',\n",
       " u'Boston Hotel Buckminster': '/Hotel_Review-g60745-d94372-Reviews-Boston_Hotel_Buckminster-Boston_Massachusetts.html',\n",
       " u'Boston Marriott Copley Place': '/Hotel_Review-g60745-d111416-Reviews-Boston_Marriott_Copley_Place-Boston_Massachusetts.html',\n",
       " u'Boston Marriott Long Wharf': '/Hotel_Review-g60745-d111417-Reviews-Boston_Marriott_Long_Wharf-Boston_Massachusetts.html',\n",
       " u'Boston Park Plaza': '/Hotel_Review-g60745-d111418-Reviews-Boston_Park_Plaza-Boston_Massachusetts.html',\n",
       " u'Chandler Inn': '/Hotel_Review-g60745-d89568-Reviews-Chandler_Inn-Boston_Massachusetts.html',\n",
       " u'Charlesmark Hotel': '/Hotel_Review-g60745-d225873-Reviews-Charlesmark_Hotel-Boston_Massachusetts.html',\n",
       " u'Club Quarters Hotel in Boston': '/Hotel_Review-g60745-d94399-Reviews-Club_Quarters_Hotel_in_Boston-Boston_Massachusetts.html',\n",
       " u'Colonnade Hotel': '/Hotel_Review-g60745-d94371-Reviews-Colonnade_Hotel-Boston_Massachusetts.html',\n",
       " u'Comfort Inn - Boston': '/Hotel_Review-g60745-d222958-Reviews-Comfort_Inn_Boston-Boston_Massachusetts.html',\n",
       " u'Constitution Inn': '/Hotel_Review-g60745-d126058-Reviews-Constitution_Inn-Boston_Massachusetts.html',\n",
       " u'Copley House': '/Hotel_Review-g60745-d120977-Reviews-Copley_House-Boston_Massachusetts.html',\n",
       " u'Copley Square Hotel': '/Hotel_Review-g60745-d111421-Reviews-Copley_Square_Hotel-Boston_Massachusetts.html',\n",
       " u'Courtyard Boston Downtown': '/Hotel_Review-g60745-d89619-Reviews-Courtyard_Boston_Downtown-Boston_Massachusetts.html',\n",
       " u'Courtyard Boston-South Boston': '/Hotel_Review-g60745-d555224-Reviews-Courtyard_Boston_South_Boston-Boston_Massachusetts.html',\n",
       " u'Courtyard by Marriott Boston Copley Square': '/Hotel_Review-g60745-d313573-Reviews-Courtyard_by_Marriott_Boston_Copley_Square-Boston_Massachusetts.html',\n",
       " u'Courtyard by Marriott Boston Logan Airport': '/Hotel_Review-g60745-d94363-Reviews-Courtyard_by_Marriott_Boston_Logan_Airport-Boston_Massachusetts.html',\n",
       " u'Days Hotel Boston': '/Hotel_Review-g60745-d217000-Reviews-Days_Hotel_Boston-Boston_Massachusetts.html',\n",
       " u'DoubleTree Club by Hilton Hotel Boston Bayside': '/Hotel_Review-g60745-d94368-Reviews-DoubleTree_Club_by_Hilton_Hotel_Boston_Bayside-Boston_Massachusetts.html',\n",
       " u'DoubleTree Suites by Hilton Boston-Cambridge': '/Hotel_Review-g60745-d111422-Reviews-DoubleTree_Suites_by_Hilton_Boston_Cambridge-Boston_Massachusetts.html',\n",
       " u'DoubleTree by Hilton Hotel Boston - Downtown': '/Hotel_Review-g60745-d217550-Reviews-DoubleTree_by_Hilton_Hotel_Boston_Downtown-Boston_Massachusetts.html',\n",
       " u'Element Boston Seaport': '/Hotel_Review-g60745-d8145467-Reviews-Element_Boston_Seaport-Boston_Massachusetts.html',\n",
       " u'Eliot Hotel': '/Hotel_Review-g60745-d111423-Reviews-Eliot_Hotel-Boston_Massachusetts.html',\n",
       " u'Embassy Suites by Hilton Boston - at Logan Airport': '/Hotel_Review-g60745-d268205-Reviews-Embassy_Suites_by_Hilton_Boston_at_Logan_Airport-Boston_Massachusetts.html',\n",
       " u'Fairmont Copley Plaza, Boston': '/Hotel_Review-g60745-d111444-Reviews-Fairmont_Copley_Plaza_Boston-Boston_Massachusetts.html',\n",
       " u'Four Seasons Hotel Boston': '/Hotel_Review-g60745-d89585-Reviews-Four_Seasons_Hotel_Boston-Boston_Massachusetts.html',\n",
       " u'Hampton Inn & Suites Boston Crosstown Center': '/Hotel_Review-g60745-d320038-Reviews-Hampton_Inn_Suites_Boston_Crosstown_Center-Boston_Massachusetts.html',\n",
       " u'Harborside Inn': '/Hotel_Review-g60745-d94367-Reviews-Harborside_Inn-Boston_Massachusetts.html',\n",
       " u'Hilton Boston Back Bay': '/Hotel_Review-g60745-d111428-Reviews-Hilton_Boston_Back_Bay-Boston_Massachusetts.html',\n",
       " u'Hilton Boston Downtown / Faneuil Hall': '/Hotel_Review-g60745-d94326-Reviews-Hilton_Boston_Downtown_Faneuil_Hall-Boston_Massachusetts.html',\n",
       " u'Hilton Boston Logan Airport': '/Hotel_Review-g60745-d120988-Reviews-Hilton_Boston_Logan_Airport-Boston_Massachusetts.html',\n",
       " u'Hilton Garden Inn Boston Logan Airport': '/Hotel_Review-g60745-d8142646-Reviews-Hilton_Garden_Inn_Boston_Logan_Airport-Boston_Massachusetts.html',\n",
       " u'Holiday Inn Express Boston': '/Hotel_Review-g60745-d121009-Reviews-Holiday_Inn_Express_Boston-Boston_Massachusetts.html',\n",
       " u'Holiday Inn Express Hotel & Suites Boston Garden': '/Hotel_Review-g60745-d1138709-Reviews-Holiday_Inn_Express_Hotel_Suites_Boston_Garden-Boston_Massachusetts.html',\n",
       " u'Hotel 140': '/Hotel_Review-g60745-d549445-Reviews-Hotel_140-Boston_Massachusetts.html',\n",
       " u'Hotel Commonwealth': '/Hotel_Review-g60745-d258705-Reviews-Hotel_Commonwealth-Boston_Massachusetts.html',\n",
       " u'Hyatt Regency Boston': '/Hotel_Review-g60745-d111441-Reviews-Hyatt_Regency_Boston-Boston_Massachusetts.html',\n",
       " u'Hyatt Regency Boston Harbor': '/Hotel_Review-g60745-d89620-Reviews-Hyatt_Regency_Boston_Harbor-Boston_Massachusetts.html',\n",
       " u'InterContinental Boston': '/Hotel_Review-g60745-d620703-Reviews-InterContinental_Boston-Boston_Massachusetts.html',\n",
       " u'Lenox Hotel': '/Hotel_Review-g60745-d114134-Reviews-Lenox_Hotel-Boston_Massachusetts.html',\n",
       " u'Loews Boston Hotel': '/Hotel_Review-g60745-d321151-Reviews-Loews_Boston_Hotel-Boston_Massachusetts.html',\n",
       " u'Mandarin Oriental, Boston': '/Hotel_Review-g60745-d1136705-Reviews-Mandarin_Oriental_Boston-Boston_Massachusetts.html',\n",
       " u\"Marriott's Custom House\": '/Hotel_Review-g60745-d94344-Reviews-Marriott_s_Custom_House-Boston_Massachusetts.html',\n",
       " u'Milner Hotel': '/Hotel_Review-g60745-d89592-Reviews-Milner_Hotel-Boston_Massachusetts.html',\n",
       " u'Newbury Guest House': '/Hotel_Review-g60745-d111434-Reviews-Newbury_Guest_House-Boston_Massachusetts.html',\n",
       " u'Nine Zero Hotel - a Kimpton Hotel': '/Hotel_Review-g60745-d234752-Reviews-Nine_Zero_Hotel_a_Kimpton_Hotel-Boston_Massachusetts.html',\n",
       " u'Omni Parker House': '/Hotel_Review-g60745-d89599-Reviews-Omni_Parker_House-Boston_Massachusetts.html',\n",
       " u'Onyx Hotel - a Kimpton Hotel': '/Hotel_Review-g60745-d287606-Reviews-Onyx_Hotel_a_Kimpton_Hotel-Boston_Massachusetts.html',\n",
       " u'Ramada Boston': '/Hotel_Review-g60745-d217148-Reviews-Ramada_Boston-Boston_Massachusetts.html',\n",
       " u'Renaissance Boston Waterfront Hotel': '/Hotel_Review-g60745-d678412-Reviews-Renaissance_Boston_Waterfront_Hotel-Boston_Massachusetts.html',\n",
       " u'Residence Inn Boston Back Bay / Fenway': '/Hotel_Review-g60745-d4325990-Reviews-Residence_Inn_Boston_Back_Bay_Fenway-Boston_Massachusetts.html',\n",
       " u'Residence Inn Boston Downtown Seaport': '/Hotel_Review-g60745-d4232689-Reviews-Residence_Inn_Boston_Downtown_Seaport-Boston_Massachusetts.html',\n",
       " u'Residence Inn by Marriott Boston Harbor on Tudor Wharf': '/Hotel_Review-g60745-d268207-Reviews-Residence_Inn_by_Marriott_Boston_Harbor_on_Tudor_Wharf-Boston_Massachusetts.html',\n",
       " u'Revere Hotel Boston Common': '/Hotel_Review-g60745-d89600-Reviews-Revere_Hotel_Boston_Common-Boston_Massachusetts.html',\n",
       " u'Seaport Boston Hotel': '/Hotel_Review-g60745-d94330-Reviews-Seaport_Boston_Hotel-Boston_Massachusetts.html',\n",
       " u'Sheraton Boston Hotel': '/Hotel_Review-g60745-d89602-Reviews-Sheraton_Boston_Hotel-Boston_Massachusetts.html',\n",
       " u'Taj Boston': '/Hotel_Review-g60745-d89615-Reviews-Taj_Boston-Boston_Massachusetts.html',\n",
       " u'The Boston Common Hotel and Conference Center': '/Hotel_Review-g60745-d268206-Reviews-The_Boston_Common_Hotel_and_Conference_Center-Boston_Massachusetts.html',\n",
       " u'The Bostonian Boston': '/Hotel_Review-g60745-d114150-Reviews-The_Bostonian_Boston-Boston_Massachusetts.html',\n",
       " u'The Boxer Boston': '/Hotel_Review-g60745-d499916-Reviews-The_Boxer_Boston-Boston_Massachusetts.html',\n",
       " u'The Envoy Hotel, Autograph Collection': '/Hotel_Review-g60745-d8112658-Reviews-The_Envoy_Hotel_Autograph_Collection-Boston_Massachusetts.html',\n",
       " u'The Godfrey Hotel Boston': '/Hotel_Review-g60745-d8316858-Reviews-The_Godfrey_Hotel_Boston-Boston_Massachusetts.html',\n",
       " u'The Inn At St Botolph': '/Hotel_Review-g60745-d1159285-Reviews-The_Inn_At_St_Botolph-Boston_Massachusetts.html',\n",
       " u'The Inn at Longwood Medical': '/Hotel_Review-g60745-d77638-Reviews-The_Inn_at_Longwood_Medical-Boston_Massachusetts.html',\n",
       " u'The Langham, Boston': '/Hotel_Review-g60745-d114149-Reviews-The_Langham_Boston-Boston_Massachusetts.html',\n",
       " u'The Liberty Hotel': '/Hotel_Review-g60745-d647006-Reviews-The_Liberty_Hotel-Boston_Massachusetts.html',\n",
       " u'The Midtown Hotel': '/Hotel_Review-g60745-d94350-Reviews-The_Midtown_Hotel-Boston_Massachusetts.html',\n",
       " u'The Ritz-Carlton, Boston': '/Hotel_Review-g60745-d222955-Reviews-The_Ritz_Carlton_Boston-Boston_Massachusetts.html',\n",
       " u'The Verb Hotel': '/Hotel_Review-g60745-d6485213-Reviews-The_Verb_Hotel-Boston_Massachusetts.html',\n",
       " u'The Westin Boston Waterfront': '/Hotel_Review-g60745-d595373-Reviews-The_Westin_Boston_Waterfront-Boston_Massachusetts.html',\n",
       " u'The Westin Copley Place': '/Hotel_Review-g60745-d89617-Reviews-The_Westin_Copley_Place-Boston_Massachusetts.html',\n",
       " u'W Boston': '/Hotel_Review-g60745-d1486034-Reviews-W_Boston-Boston_Massachusetts.html',\n",
       " u'Wyndham Boston Beacon Hill': '/Hotel_Review-g60745-d217546-Reviews-Wyndham_Boston_Beacon_Hill-Boston_Massachusetts.html',\n",
       " u'XV Beacon': '/Hotel_Review-g60745-d94337-Reviews-XV_Beacon-Boston_Massachusetts.html',\n",
       " u'enVision Hotel Boston': '/Hotel_Review-g60745-d3225572-Reviews-EnVision_Hotel_Boston-Boston_Massachusetts.html'}"
      ]
     },
     "execution_count": 21,
     "metadata": {},
     "output_type": "execute_result"
    }
   ],
   "source": [
    "'''\n",
    "1 - Retrieve all 82 hotels in Boston\n",
    "    - url to get to the first page of hotels: https://www.tripadvisor.com/Hotels-g60745-Boston_Massachusetts-Hotels.html \n",
    "    - url to get to the first page of hotels: https://www.tripadvisor.com/Hotels-g60745-oa30-Boston_Massachusetts-Hotels.html \n",
    "    - url to get to the first page of hotels: https://www.tripadvisor.com/Hotels-g60745-oa60-Boston_Massachusetts-Hotels.html \n",
    "    - extract name and url of each hotel and its page, put into dataframe\n",
    "2 - Collect traveler ratings for each hotel to get avg_score\n",
    "3 - Get Location, Sleep Quality, Rooms, Service, Value and Cleanliness from each hotel\n",
    "'''\n",
    "from bs4 import BeautifulSoup\n",
    "import requests\n",
    "import json\n",
    "import time\n",
    "import pandas as pd\n",
    "\n",
    "base_url = 'https://www.tripadvisor.com'\n",
    "url_list = ['https://www.tripadvisor.com/Hotels-g60745-Boston_Massachusetts-Hotels.html','https://www.tripadvisor.com/Hotels-g60745-oa30-Boston_Massachusetts-Hotels.html','https://www.tripadvisor.com/Hotels-g60745-oa60-Boston_Massachusetts-Hotels.html']\n",
    "user_agent = 'Mozilla/5.0 (Macintosh; Intel Mac OS X 10_10_2) AppleWebKit/537.36 (KHTML, like Gecko) Chrome/41.0.2272.76 Safari/537.36'\n",
    "\n",
    "def parse_hotels():\n",
    "    '''Record list of all hotels in Boston + urls to review page'''\n",
    "    hotel_list = {}\n",
    "    headers = {'User-Agent' : user_agent }\n",
    "    for i in range(len(url_list)):\n",
    "        response = requests.get(url_list[i], headers=headers)\n",
    "        html = response.text.encode('utf-8')\n",
    "        soup = BeautifulSoup(html)\n",
    "        hotel_boxes = soup.findAll('div', {'class' :'listing easyClear  p13n_imperfect '})\n",
    "        for hotel_box in hotel_boxes:\n",
    "            name = hotel_box.find('div', {'class' :'listing_title'}).find(text=True)\n",
    "            url = hotel_box.find('div', {'class' :'listing_title'}).find('a',href=True)['href']\n",
    "            hotel_list[name] = url\n",
    "\n",
    "    return hotel_list\n",
    "\n",
    "def parse_hotel_reviews(start=0,end=10):\n",
    "    '''E'''\n",
    "parse_hotels()"
   ]
  },
  {
   "cell_type": "markdown",
   "metadata": {},
   "source": [
    "** Task 2 (20 pts) **\n",
    "\n",
    "Now, we will use regression to analyze this information. First, we will fit a linear regression model that predicts the average rating. For example, for the hotel above, the average rating is\n",
    "\n",
    "$$ \\text{AVG_SCORE} = \\frac{1*31 + 2*33 + 3*98 + 4*504 + 5*1861}{2527}$$\n",
    "\n",
    "Use the model to analyze the important factors that decide the $\\text{AVG_SCORE}$."
   ]
  },
  {
   "cell_type": "markdown",
   "metadata": {},
   "source": [
    "** Task 3 (30 pts) **\n",
    "\n",
    "Finally, we will use logistic regression to decide if a hotel is _excellent_ or not. We classify a hotel as _excellent_ if more than **60%** of its ratings are 5 stars. This is a binary attribute on which we can fit a logistic regression model. As before, use the model to analyze the data."
   ]
  },
  {
   "cell_type": "markdown",
   "metadata": {},
   "source": [
    "-------"
   ]
  },
  {
   "cell_type": "code",
   "execution_count": null,
   "metadata": {
    "collapsed": false
   },
   "outputs": [],
   "source": [
    "# Code for setting the style of the notebook\n",
    "from IPython.core.display import HTML\n",
    "def css_styling():\n",
    "    styles = open(\"../../theme/custom.css\", \"r\").read()\n",
    "    return HTML(styles)\n",
    "css_styling()"
   ]
  }
 ],
 "metadata": {
  "kernelspec": {
   "display_name": "Python 2",
   "language": "python",
   "name": "python2"
  },
  "language_info": {
   "codemirror_mode": {
    "name": "ipython",
    "version": 2
   },
   "file_extension": ".py",
   "mimetype": "text/x-python",
   "name": "python",
   "nbconvert_exporter": "python",
   "pygments_lexer": "ipython2",
   "version": "2.7.11"
  }
 },
 "nbformat": 4,
 "nbformat_minor": 0
}
